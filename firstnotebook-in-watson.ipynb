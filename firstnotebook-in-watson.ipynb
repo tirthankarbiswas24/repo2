{
    "cells": [
        {
            "cell_type": "markdown",
            "metadata": {},
            "source": "# Spark code to read csv"
        },
        {
            "cell_type": "code",
            "execution_count": 1,
            "metadata": {},
            "outputs": [
                {
                    "name": "stdout",
                    "output_type": "stream",
                    "text": "Waiting for a Spark session to start...\nSpark Initialization Done! ApplicationId = app-20200825080311-0000\nKERNEL_ID = d9189174-96b8-4985-8f0a-81a9f348e419\n"
                },
                {
                    "data": {
                        "text/plain": "[Row(PassengerId='892', Survived='0'),\n Row(PassengerId='893', Survived='1'),\n Row(PassengerId='894', Survived='0'),\n Row(PassengerId='895', Survived='0'),\n Row(PassengerId='896', Survived='1')]"
                    },
                    "execution_count": 1,
                    "metadata": {},
                    "output_type": "execute_result"
                }
            ],
            "source": "# The code was removed by Watson Studio for sharing."
        },
        {
            "cell_type": "code",
            "execution_count": null,
            "metadata": {},
            "outputs": [],
            "source": ""
        }
    ],
    "metadata": {
        "kernelspec": {
            "display_name": "Python 3.6 with Spark",
            "language": "python3",
            "name": "python36"
        },
        "language_info": {
            "codemirror_mode": {
                "name": "ipython",
                "version": 3
            },
            "file_extension": ".py",
            "mimetype": "text/x-python",
            "name": "python",
            "nbconvert_exporter": "python",
            "pygments_lexer": "ipython3",
            "version": "3.6.8"
        }
    },
    "nbformat": 4,
    "nbformat_minor": 1
}